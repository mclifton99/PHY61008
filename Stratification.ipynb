{
 "cells": [
  {
   "cell_type": "code",
   "execution_count": 1,
   "metadata": {},
   "outputs": [],
   "source": [
    "import sys\n",
    "import numpy as np\n",
    "import matplotlib.pyplot as plt\n",
    "import pandas as pd\n",
    "import math"
   ]
  },
  {
   "cell_type": "code",
   "execution_count": 2,
   "metadata": {},
   "outputs": [],
   "source": [
    "\"\"\"\n",
    "Function to output age stratified model parameters\n",
    "Arbitrary values provided for testing purposes\n",
    "15/12/20\n",
    "\"\"\"\n",
    "\n",
    "def AgeComorbidParms(i, j):\n",
    "    #straitfy into age bands\n",
    "    #j = 0, no comorbidities\n",
    "    #j =/ 0, comorbidity states, currently coalesced into 1 large comorbidity state\n",
    "    # i = 0 : 0-10\n",
    "    if i == 0:\n",
    "        if j == 0:\n",
    "           beta = 5\n",
    "           gamma = 6\n",
    "           mu = 3\n",
    "        if j == 1:\n",
    "           beta = 1\n",
    "           gamma = 3\n",
    "           mu = 4\n",
    "    # i = 1 : 11-20\n",
    "    if i == 1:\n",
    "        if j == 0:\n",
    "           beta = 7\n",
    "           gamma = 8\n",
    "           mu = 4\n",
    "        if j == 1:\n",
    "           beta = 2\n",
    "           gamma = 4\n",
    "           mu = 5\n",
    "    # i = 2 : 21-30\n",
    "    if i == 2:\n",
    "        if j == 0:\n",
    "           beta = 8\n",
    "           gamma = 5\n",
    "           mu = 3\n",
    "        if j == 1:\n",
    "           beta = 9\n",
    "           gamma = 5\n",
    "           mu = 3\n",
    "    # i = 3 : 31-40\n",
    "    if i == 3:\n",
    "        if j == 0:\n",
    "           beta = 3\n",
    "           gamma = 3\n",
    "           mu = 7\n",
    "        if j == 1:\n",
    "           beta = 8\n",
    "           gamma = 1\n",
    "           mu = 2 \n",
    "    # i = 4 : 41-50\n",
    "    if i == 4:\n",
    "        if j == 0:\n",
    "           beta = 1\n",
    "           gamma = 0\n",
    "           mu = 1\n",
    "        if j == 1:\n",
    "           beta = 2\n",
    "           gamma = 9\n",
    "           mu = 8    \n",
    "    # i = 5 : 51-60\n",
    "    if i == 5:\n",
    "        if j == 0:\n",
    "           beta = 3\n",
    "           gamma = 4\n",
    "           mu = 1\n",
    "        if j == 1:\n",
    "           beta = 1\n",
    "           gamma = 1\n",
    "           mu = 1  \n",
    "    # i = 6 : 61-70\n",
    "    if i == 6:\n",
    "        if j == 0:\n",
    "           beta = 8\n",
    "           gamma = 9\n",
    "           mu = 0\n",
    "        if j == 1:\n",
    "           beta = 3\n",
    "           gamma = 5\n",
    "           mu =  2   \n",
    "    # i = 7 : 71-80\n",
    "    if i == 7:\n",
    "        if j == 0:\n",
    "           beta = 3\n",
    "           gamma = 3\n",
    "           mu = 5\n",
    "        if j == 1:\n",
    "           beta = 1\n",
    "           gamma = 0\n",
    "           mu = 1    \n",
    "    # i = 8 : 81+\n",
    "    if i == 8:\n",
    "        if j == 0:\n",
    "           beta = 9\n",
    "           gamma = 7\n",
    "           mu = 5\n",
    "        if j == 1:\n",
    "           beta = 6\n",
    "           gamma = 1\n",
    "           mu = 9\n",
    "    return beta, gamma, mu"
   ]
  },
  {
   "cell_type": "code",
   "execution_count": 11,
   "metadata": {},
   "outputs": [
    {
     "data": {
      "text/plain": [
       "8"
      ]
     },
     "execution_count": 11,
     "metadata": {},
     "output_type": "execute_result"
    }
   ],
   "source": [
    "AgeComorbidParms(4,1)[2]"
   ]
  },
  {
   "cell_type": "code",
   "execution_count": 9,
   "metadata": {},
   "outputs": [
    {
     "ename": "NameError",
     "evalue": "name 'S_2' is not defined",
     "output_type": "error",
     "traceback": [
      "\u001b[1;31m---------------------------------------------------------------------------\u001b[0m",
      "\u001b[1;31mNameError\u001b[0m                                 Traceback (most recent call last)",
      "\u001b[1;32m<ipython-input-9-86d264c31c2f>\u001b[0m in \u001b[0;36m<module>\u001b[1;34m\u001b[0m\n\u001b[0;32m      1\u001b[0m \u001b[1;32mfor\u001b[0m \u001b[0mi\u001b[0m \u001b[1;32min\u001b[0m \u001b[0mrange\u001b[0m\u001b[1;33m(\u001b[0m\u001b[1;36m0\u001b[0m\u001b[1;33m,\u001b[0m\u001b[1;36m2\u001b[0m\u001b[1;33m)\u001b[0m\u001b[1;33m:\u001b[0m\u001b[1;33m\u001b[0m\u001b[1;33m\u001b[0m\u001b[0m\n\u001b[0;32m      2\u001b[0m     \u001b[0mS_i\u001b[0m \u001b[1;33m=\u001b[0m \u001b[0mi\u001b[0m\u001b[1;33m\u001b[0m\u001b[1;33m\u001b[0m\u001b[0m\n\u001b[1;32m----> 3\u001b[1;33m \u001b[0mprint\u001b[0m\u001b[1;33m(\u001b[0m\u001b[0mS_2\u001b[0m\u001b[1;33m)\u001b[0m\u001b[1;33m\u001b[0m\u001b[1;33m\u001b[0m\u001b[0m\n\u001b[0m",
      "\u001b[1;31mNameError\u001b[0m: name 'S_2' is not defined"
     ]
    }
   ],
   "source": [
    "for i in range(0,2):\n",
    "    S_i = i\n",
    "print(S_2)"
   ]
  }
 ],
 "metadata": {
  "kernelspec": {
   "display_name": "Python 3",
   "language": "python",
   "name": "python3"
  },
  "language_info": {
   "codemirror_mode": {
    "name": "ipython",
    "version": 3
   },
   "file_extension": ".py",
   "mimetype": "text/x-python",
   "name": "python",
   "nbconvert_exporter": "python",
   "pygments_lexer": "ipython3",
   "version": "3.8.3"
  }
 },
 "nbformat": 4,
 "nbformat_minor": 4
}
